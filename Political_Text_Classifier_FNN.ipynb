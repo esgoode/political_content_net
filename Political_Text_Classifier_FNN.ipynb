{
 "cells": [
  {
   "cell_type": "markdown",
   "metadata": {},
   "source": [
    "# Political Classifier\n",
    "\n",
    "Text Classification with Keras: Politics vs. Sports"
   ]
  },
  {
   "cell_type": "code",
   "execution_count": 194,
   "metadata": {
    "collapsed": true
   },
   "outputs": [],
   "source": [
    "import numpy as np\n",
    "import pandas as pd\n",
    "from matplotlib import pyplot as plt\n",
    "\n",
    "from keras import regularizers\n",
    "from keras.models import Sequential\n",
    "from keras.layers import Dense, Dropout, Activation\n",
    "from keras.preprocessing.text import Tokenizer\n",
    "from keras.preprocessing import sequence\n",
    "import keras.callbacks as cb\n",
    "from sklearn.preprocessing import LabelEncoder\n",
    "import time\n",
    "from keras import metrics"
   ]
  },
  {
   "cell_type": "code",
   "execution_count": 30,
   "metadata": {
    "collapsed": true
   },
   "outputs": [],
   "source": [
    "class LossHistory(cb.Callback):\n",
    "    def on_train_begin(self, logs={}):\n",
    "        self.losses = []\n",
    "\n",
    "    def on_batch_end(self, batch, logs={}):\n",
    "        batch_loss = logs.get('loss')\n",
    "        self.losses.append(batch_loss)"
   ]
  },
  {
   "cell_type": "code",
   "execution_count": 31,
   "metadata": {
    "collapsed": true
   },
   "outputs": [],
   "source": [
    "def plot_losses(losses):\n",
    "    plt.plot(losses)\n",
    "    plt.title('Loss per batch')\n",
    "    plt.show()"
   ]
  },
  {
   "cell_type": "code",
   "execution_count": 32,
   "metadata": {
    "collapsed": true
   },
   "outputs": [],
   "source": [
    "#Convert corpus to Data Frame\n",
    "data = pd.read_csv('train_data_5.csv')"
   ]
  },
  {
   "cell_type": "code",
   "execution_count": 33,
   "metadata": {
    "collapsed": true
   },
   "outputs": [],
   "source": [
    "encoder = LabelEncoder()\n",
    "type_binary = encoder.fit_transform(data.Type)"
   ]
  },
  {
   "cell_type": "code",
   "execution_count": 174,
   "metadata": {
    "collapsed": true
   },
   "outputs": [],
   "source": [
    "#keras tokenizer index words in tweets and coverts to matrix\n",
    "keep_words = 1000\n",
    "split_words = Tokenizer(num_words= keep_words, lower=True, char_level=False, oov_token=None)\n",
    "split_words.fit_on_texts(data.Tweet)\n",
    "dict_matrix = split_words.texts_to_matrix(data.Tweet, mode='count')"
   ]
  },
  {
   "cell_type": "markdown",
   "metadata": {},
   "source": [
    "# FNN"
   ]
  },
  {
   "cell_type": "markdown",
   "metadata": {},
   "source": [
    "Given the corpus and problem. A feedforward network should perform well on this data."
   ]
  },
  {
   "cell_type": "code",
   "execution_count": 121,
   "metadata": {
    "collapsed": true
   },
   "outputs": [],
   "source": [
    "def ffn_model():\n",
    "    model = Sequential()\n",
    "    model.add(Dense(256, activation='relu', input_shape=(keep_words,), kernel_regularizer=regularizers.l2(0.01)))\n",
    "    model.add(Dropout(.5))\n",
    "    model.add(Dense(128, activation='relu'))\n",
    "    model.add(Dropout(.5))\n",
    "    model.add(Dense(64, activation='relu'))\n",
    "    model.add(Dropout(.3))\n",
    "    model.add(Dense(16, activation='relu'))\n",
    "    model.add(Dropout(.25))\n",
    "    model.add(Dense(1, activation='sigmoid'))\n",
    "    model.compile(loss='binary_crossentropy', optimizer='adam', metrics=['accuracy'])\n",
    "    \n",
    "    return model"
   ]
  },
  {
   "cell_type": "code",
   "execution_count": 122,
   "metadata": {},
   "outputs": [
    {
     "name": "stdout",
     "output_type": "stream",
     "text": [
      "Train on 4241 samples, validate on 2284 samples\n",
      "Epoch 1/8\n",
      "4241/4241 [==============================] - 4s 865us/step - loss: 2.8835 - acc: 0.5801 - val_loss: 1.4825 - val_acc: 0.7312\n",
      "Epoch 2/8\n",
      "4241/4241 [==============================] - 1s 126us/step - loss: 0.9833 - acc: 0.7527 - val_loss: 0.5138 - val_acc: 0.8919\n",
      "Epoch 3/8\n",
      "4241/4241 [==============================] - 1s 119us/step - loss: 0.4824 - acc: 0.8838 - val_loss: 0.3731 - val_acc: 0.9076\n",
      "Epoch 4/8\n",
      "4241/4241 [==============================] - 1s 126us/step - loss: 0.3702 - acc: 0.9109 - val_loss: 0.3661 - val_acc: 0.9028\n",
      "Epoch 5/8\n",
      "4241/4241 [==============================] - 1s 121us/step - loss: 0.3359 - acc: 0.9241 - val_loss: 0.3695 - val_acc: 0.9028\n",
      "Epoch 6/8\n",
      "4241/4241 [==============================] - 1s 122us/step - loss: 0.3257 - acc: 0.9288 - val_loss: 0.3799 - val_acc: 0.9002\n",
      "Epoch 7/8\n",
      "4241/4241 [==============================] - 1s 122us/step - loss: 0.3060 - acc: 0.9392 - val_loss: 0.3579 - val_acc: 0.9102\n",
      "Epoch 8/8\n",
      "4241/4241 [==============================] - 1s 131us/step - loss: 0.2885 - acc: 0.9441 - val_loss: 0.3517 - val_acc: 0.9155\n"
     ]
    },
    {
     "data": {
      "image/png": "[encoded data removed]",
      "text/plain": [
       "<matplotlib.figure.Figure at 0x1a83a05160>"
      ]
     },
     "metadata": {},
     "output_type": "display_data"
    }
   ],
   "source": [
    "ffn_model1 = ffn_model()\n",
    "history = LossHistory()\n",
    "ffn_model1.fit(dict_matrix, type_binary, epochs=8, batch_size=128,\n",
    "                callbacks=[history],\n",
    "                validation_split=.35, verbose=1)\n",
    "\n",
    "plot_losses(history.losses)"
   ]
  },
  {
   "cell_type": "markdown",
   "metadata": {},
   "source": [
    "As can be seen above, model reaches train accuracy of 94.41% and test accuracy of 91.55%. Given the dataset this result is reasonable. If you consider a one or short worded tweet about politics, it is near impossible to determine what topic this is classified as. Looking at the dataset, every 10 or 20 tweets is short worded, which makes it harder to achieve accuracy more than 92 percent. Investigation of tuning model below."
   ]
  },
  {
   "cell_type": "markdown",
   "metadata": {},
   "source": [
    "#### Investigate Impact of architecture, regularization, and hyperparameters"
   ]
  },
  {
   "cell_type": "code",
   "execution_count": 146,
   "metadata": {
    "collapsed": true
   },
   "outputs": [],
   "source": [
    "def ffn_model2():\n",
    "    model = Sequential()\n",
    "    model.add(Dense(1028, activation='relu', input_shape=(keep_words,)))\n",
    "    model.add(Dropout(.6))\n",
    "    model.add(Dense(512, activation='relu'))\n",
    "    model.add(Dropout(.6))\n",
    "    model.add(Dense(1, activation='sigmoid'))\n",
    "    model.compile(loss='binary_crossentropy', optimizer='adam', metrics=['accuracy'])\n",
    "    \n",
    "    return model"
   ]
  },
  {
   "cell_type": "code",
   "execution_count": 147,
   "metadata": {},
   "outputs": [
    {
     "name": "stdout",
     "output_type": "stream",
     "text": [
      "Train on 4241 samples, validate on 2284 samples\n",
      "Epoch 1/5\n",
      "4241/4241 [==============================] - 5s 1ms/step - loss: 0.5059 - acc: 0.7534 - val_loss: 0.2483 - val_acc: 0.8949\n",
      "Epoch 2/5\n",
      "4241/4241 [==============================] - 2s 369us/step - loss: 0.2037 - acc: 0.9073 - val_loss: 0.1797 - val_acc: 0.9098\n",
      "Epoch 3/5\n",
      "4241/4241 [==============================] - 2s 367us/step - loss: 0.1343 - acc: 0.9392 - val_loss: 0.1707 - val_acc: 0.9199\n",
      "Epoch 4/5\n",
      "4241/4241 [==============================] - 2s 371us/step - loss: 0.0970 - acc: 0.9564 - val_loss: 0.1843 - val_acc: 0.9177\n",
      "Epoch 5/5\n",
      "4241/4241 [==============================] - 2s 370us/step - loss: 0.0700 - acc: 0.9729 - val_loss: 0.1990 - val_acc: 0.9137\n"
     ]
    },
    {
     "data": {
      "image/png": "[encoded data removed]",
      "text/plain": [
       "<matplotlib.figure.Figure at 0x1a91db57b8>"
      ]
     },
     "metadata": {},
     "output_type": "display_data"
    }
   ],
   "source": [
    "ffn_model2 = ffn_model2()\n",
    "history = LossHistory()\n",
    "ffn_model2.fit(dict_matrix, type_binary, epochs=5, batch_size=128,\n",
    "                callbacks=[history],\n",
    "                validation_split=.35, verbose=1)\n",
    "\n",
    "plot_losses(history.losses)"
   ]
  },
  {
   "cell_type": "markdown",
   "metadata": {},
   "source": [
    "A wider, but shallow models results can be seen above. This model was able to learn effectively similar to the previous one. It reached the maximum expected results. Dropout was used in this implementation and was made much larger because of the size of the network."
   ]
  },
  {
   "cell_type": "code",
   "execution_count": 151,
   "metadata": {
    "collapsed": true
   },
   "outputs": [],
   "source": [
    "def ffn_model3():\n",
    "    model = Sequential()\n",
    "    model.add(Dense(256, activation='relu', input_shape=(keep_words,)))\n",
    "    model.add(Dense(128, activation='relu'))\n",
    "    model.add(Dense(64, activation='relu'))\n",
    "    model.add(Dense(16, activation='relu'))\n",
    "    model.add(Dense(1, activation='sigmoid'))\n",
    "    model.compile(loss='binary_crossentropy', optimizer='adam', metrics=['accuracy'])\n",
    "    \n",
    "    return model"
   ]
  },
  {
   "cell_type": "code",
   "execution_count": 152,
   "metadata": {},
   "outputs": [
    {
     "name": "stdout",
     "output_type": "stream",
     "text": [
      "Train on 4241 samples, validate on 2284 samples\n",
      "Epoch 1/5\n",
      "4241/4241 [==============================] - 4s 928us/step - loss: 0.4961 - acc: 0.7637 - val_loss: 0.2391 - val_acc: 0.8958\n",
      "Epoch 2/5\n",
      "4241/4241 [==============================] - 0s 94us/step - loss: 0.1771 - acc: 0.9203 - val_loss: 0.1782 - val_acc: 0.9208\n",
      "Epoch 3/5\n",
      "4241/4241 [==============================] - 0s 94us/step - loss: 0.0885 - acc: 0.9625 - val_loss: 0.1977 - val_acc: 0.9094\n",
      "Epoch 4/5\n",
      "4241/4241 [==============================] - 0s 94us/step - loss: 0.0518 - acc: 0.9783 - val_loss: 0.2237 - val_acc: 0.9076\n",
      "Epoch 5/5\n",
      "4241/4241 [==============================] - 0s 99us/step - loss: 0.0344 - acc: 0.9863 - val_loss: 0.2375 - val_acc: 0.9081\n"
     ]
    },
    {
     "data": {
      "image/png": "[encoded data removed]",
      "text/plain": [
       "<matplotlib.figure.Figure at 0x1a9362e278>"
      ]
     },
     "metadata": {},
     "output_type": "display_data"
    }
   ],
   "source": [
    "ffn_model3 = ffn_model3()\n",
    "history = LossHistory()\n",
    "ffn_model3.fit(dict_matrix, type_binary, epochs=5, batch_size=128,\n",
    "                callbacks=[history],\n",
    "                validation_split=.35, verbose=1)\n",
    "\n",
    "plot_losses(history.losses)"
   ]
  },
  {
   "cell_type": "markdown",
   "metadata": {},
   "source": [
    "This model does not include regularization, as can be seen with the train loss. The function overfits to the training data getting an accuracy of 98.63%. What happens in this scenario is that a word that is not political will be learned as political despite it not having any relevance. This is bad for the function of this algorithm, to detect political content."
   ]
  },
  {
   "cell_type": "code",
   "execution_count": 160,
   "metadata": {
    "collapsed": true
   },
   "outputs": [],
   "source": [
    "def ffn_model4():\n",
    "    model = Sequential()\n",
    "    model.add(Dense(256, activation='relu', input_shape=(keep_words,), kernel_regularizer=regularizers.l2(0.03)))\n",
    "    model.add(Dropout(.8))\n",
    "    model.add(Dense(128, activation='relu'))\n",
    "    model.add(Dropout(.8))\n",
    "    model.add(Dense(64, activation='relu'))\n",
    "    model.add(Dropout(.3))\n",
    "    model.add(Dense(16, activation='relu'))\n",
    "    model.add(Dropout(.25))\n",
    "    model.add(Dense(1, activation='sigmoid'))\n",
    "    model.compile(loss='binary_crossentropy', optimizer='adam', metrics=['accuracy'])\n",
    "    \n",
    "    return model"
   ]
  },
  {
   "cell_type": "code",
   "execution_count": 161,
   "metadata": {},
   "outputs": [
    {
     "name": "stdout",
     "output_type": "stream",
     "text": [
      "Train on 4241 samples, validate on 2284 samples\n",
      "Epoch 1/20\n",
      "4241/4241 [==============================] - 5s 1ms/step - loss: 7.1268 - acc: 0.4919 - val_loss: 2.9648 - val_acc: 0.5219\n",
      "Epoch 2/20\n",
      "4241/4241 [==============================] - 1s 144us/step - loss: 1.7128 - acc: 0.5202 - val_loss: 0.9774 - val_acc: 0.5919\n",
      "Epoch 3/20\n",
      "4241/4241 [==============================] - 1s 136us/step - loss: 0.8208 - acc: 0.5562 - val_loss: 0.7413 - val_acc: 0.6966\n",
      "Epoch 4/20\n",
      "4241/4241 [==============================] - 1s 140us/step - loss: 0.7172 - acc: 0.6251 - val_loss: 0.6894 - val_acc: 0.7723\n",
      "Epoch 5/20\n",
      "4241/4241 [==============================] - 1s 137us/step - loss: 0.6771 - acc: 0.7201 - val_loss: 0.5908 - val_acc: 0.8323\n",
      "Epoch 6/20\n",
      "4241/4241 [==============================] - 1s 143us/step - loss: 0.5875 - acc: 0.8354 - val_loss: 0.4491 - val_acc: 0.8975\n",
      "Epoch 7/20\n",
      "4241/4241 [==============================] - 1s 135us/step - loss: 0.5296 - acc: 0.8512 - val_loss: 0.4384 - val_acc: 0.9050\n",
      "Epoch 8/20\n",
      "4241/4241 [==============================] - 1s 137us/step - loss: 0.5494 - acc: 0.8637 - val_loss: 0.4567 - val_acc: 0.9067\n",
      "Epoch 9/20\n",
      "4241/4241 [==============================] - 1s 134us/step - loss: 0.5424 - acc: 0.8755 - val_loss: 0.4571 - val_acc: 0.9059\n",
      "Epoch 10/20\n",
      "4241/4241 [==============================] - 1s 143us/step - loss: 0.5207 - acc: 0.8830 - val_loss: 0.4447 - val_acc: 0.9067\n",
      "Epoch 11/20\n",
      "4241/4241 [==============================] - 1s 135us/step - loss: 0.5115 - acc: 0.8840 - val_loss: 0.4612 - val_acc: 0.9024\n",
      "Epoch 12/20\n",
      "4241/4241 [==============================] - 1s 134us/step - loss: 0.5036 - acc: 0.8901 - val_loss: 0.4446 - val_acc: 0.9067\n",
      "Epoch 13/20\n",
      "4241/4241 [==============================] - 1s 146us/step - loss: 0.5056 - acc: 0.8939 - val_loss: 0.4453 - val_acc: 0.9094\n",
      "Epoch 14/20\n",
      "4241/4241 [==============================] - 1s 137us/step - loss: 0.4874 - acc: 0.8993 - val_loss: 0.4393 - val_acc: 0.9133\n",
      "Epoch 15/20\n",
      "4241/4241 [==============================] - 1s 134us/step - loss: 0.4874 - acc: 0.8974 - val_loss: 0.4341 - val_acc: 0.9151\n",
      "Epoch 16/20\n",
      "4241/4241 [==============================] - 1s 143us/step - loss: 0.4889 - acc: 0.8986 - val_loss: 0.4440 - val_acc: 0.9063\n",
      "Epoch 17/20\n",
      "4241/4241 [==============================] - 1s 143us/step - loss: 0.4780 - acc: 0.9031 - val_loss: 0.4338 - val_acc: 0.9137\n",
      "Epoch 18/20\n",
      "4241/4241 [==============================] - 1s 140us/step - loss: 0.4730 - acc: 0.9057 - val_loss: 0.4495 - val_acc: 0.9032\n",
      "Epoch 19/20\n",
      "4241/4241 [==============================] - 1s 138us/step - loss: 0.4902 - acc: 0.8979 - val_loss: 0.4522 - val_acc: 0.9063\n",
      "Epoch 20/20\n",
      "4241/4241 [==============================] - 1s 144us/step - loss: 0.4784 - acc: 0.9069 - val_loss: 0.4486 - val_acc: 0.9168\n"
     ]
    },
    {
     "data": {
      "image/png": "[encoded data removed]",
      "text/plain": [
       "<matplotlib.figure.Figure at 0x1a89ff0908>"
      ]
     },
     "metadata": {},
     "output_type": "display_data"
    }
   ],
   "source": [
    "ffn_model4 = ffn_model4()\n",
    "history = LossHistory()\n",
    "ffn_model4.fit(dict_matrix, type_binary, epochs=20, batch_size=128,\n",
    "                callbacks=[history],\n",
    "                validation_split=.35, verbose=1)\n",
    "\n",
    "plot_losses(history.losses)"
   ]
  },
  {
   "cell_type": "markdown",
   "metadata": {},
   "source": [
    "As can be seen above, we have adjusted hyperparameters from the initial model. The results are still acceptable, however many more epochs are required to get a suitable result which means more compute time."
   ]
  },
  {
   "cell_type": "markdown",
   "metadata": {},
   "source": [
    "#### Analyze Performance"
   ]
  },
  {
   "cell_type": "markdown",
   "metadata": {},
   "source": [
    "Calculates Results of Data (Test and Train), Last approximate 2000 examples are train corpus.\n",
    "\n",
    "** Note: If the content is political, label is 0. If it is about sports label is 1. **"
   ]
  },
  {
   "cell_type": "code",
   "execution_count": 187,
   "metadata": {},
   "outputs": [
    {
     "name": "stdout",
     "output_type": "stream",
     "text": [
      "6525/6525 [==============================] - 1s 94us/step\n"
     ]
    }
   ],
   "source": [
    "results = ffn_model1.predict(dict_matrix, verbose=1, steps=None)"
   ]
  },
  {
   "cell_type": "markdown",
   "metadata": {},
   "source": [
    "Tweet 6392\n",
    "\n",
    "\"The Prime Minister has just finished his speech on the EU. Read it here http//t.co/RqYQpvwB EUspeech\"\n",
    "\n",
    "Prediction:"
   ]
  },
  {
   "cell_type": "code",
   "execution_count": 188,
   "metadata": {},
   "outputs": [
    {
     "data": {
      "text/plain": [
       "array([ 0.0043353], dtype=float32)"
      ]
     },
     "execution_count": 188,
     "metadata": {},
     "output_type": "execute_result"
    }
   ],
   "source": [
    "results[6392]"
   ]
  },
  {
   "cell_type": "markdown",
   "metadata": {},
   "source": [
    "Tweet 6398\n",
    "\n",
    "\"The President We need to modernise our political system. The government will seek to ensure political parties equal access to the media\"\n",
    "\n",
    "Prediction:"
   ]
  },
  {
   "cell_type": "code",
   "execution_count": 189,
   "metadata": {},
   "outputs": [
    {
     "data": {
      "text/plain": [
       "array([  7.64250872e-05], dtype=float32)"
      ]
     },
     "execution_count": 189,
     "metadata": {},
     "output_type": "execute_result"
    }
   ],
   "source": [
    "results[6398]"
   ]
  },
  {
   "cell_type": "markdown",
   "metadata": {},
   "source": [
    "Tweet 6519\n",
    "\n",
    "\"After the game RossTurnbull has just met a hero of his former Newcastle keeper Pavel Srnicek. Hes over the moon CFC\"\n",
    "\n",
    "Prediction:"
   ]
  },
  {
   "cell_type": "code",
   "execution_count": 191,
   "metadata": {},
   "outputs": [
    {
     "data": {
      "text/plain": [
       "array([ 0.99734133], dtype=float32)"
      ]
     },
     "execution_count": 191,
     "metadata": {},
     "output_type": "execute_result"
    }
   ],
   "source": [
    "results[6519]"
   ]
  }
 ],
 "metadata": {
  "kernelspec": {
   "display_name": "Python 3",
   "language": "python",
   "name": "python3"
  },
  "language_info": {
   "codemirror_mode": {
    "name": "ipython",
    "version": 3
   },
   "file_extension": ".py",
   "mimetype": "text/x-python",
   "name": "python",
   "nbconvert_exporter": "python",
   "pygments_lexer": "ipython3",
   "version": "3.6.3"
  }
 },
 "nbformat": 4,
 "nbformat_minor": 2
}
